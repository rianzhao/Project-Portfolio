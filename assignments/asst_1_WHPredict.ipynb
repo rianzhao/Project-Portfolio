{
 "cells": [
  {
   "cell_type": "code",
   "execution_count": null,
   "metadata": {
    "id": "oX4QuTWPoa2j"
   },
   "outputs": [],
   "source": [
    "! pip install aimodelshare --upgrade"
   ]
  },
  {
   "cell_type": "code",
   "execution_count": null,
   "metadata": {
    "id": "CZ_oKTZkoxxu"
   },
   "outputs": [],
   "source": [
    "#load data\n",
    "from zipfile import ZipFile\n",
    "with ZipFile(\"world_happiness_competition_data.zip\",'r') as zObject:\n",
    "  zObject.extractall()\n",
    "import pandas as pd\n",
    "X_train = pd.read_csv('world_happiness_competition_data/X_train.csv')\n",
    "X_test = pd.read_csv('world_happiness_competition_data/X_test.csv')\n",
    "y_train = pd.read_csv('world_happiness_competition_data/y_train.csv')\n",
    "y_train_labels = y_train.idxmax(axis=1)\n",
    "X_train.head()"
   ]
  },
  {
   "cell_type": "code",
   "execution_count": null,
   "metadata": {
    "colab": {
     "base_uri": "https://localhost:8080/"
    },
    "id": "dr6FGg0mpzhv",
    "outputId": "f7a11020-1137-4c4f-fa64-e576006ccc65"
   },
   "outputs": [
    {
     "data": {
      "text/plain": [
       "(88, 26)"
      ]
     },
     "execution_count": 24,
     "metadata": {},
     "output_type": "execute_result"
    }
   ],
   "source": [
    "#Preprocess data using Sklearn Column Transformer/ Write and Save Preprocessor function\n",
    "from sklearn.preprocessing import StandardScaler, OneHotEncoder\n",
    "from sklearn.compose import ColumnTransformer, make_column_transformer\n",
    "from sklearn.pipeline import Pipeline\n",
    "from sklearn.impute import SimpleImputer\n",
    "from sklearn.preprocessing import StandardScaler, OneHotEncoder\n",
    "\n",
    "numeric_features = X_train.drop(['Country or region', 'name', 'region', 'sub-region'], axis=1)\n",
    "numeric_features=numeric_features.columns.tolist()\n",
    "\n",
    "numeric_transformer = Pipeline(steps=[\n",
    "    ('imputer', SimpleImputer(strategy='median')),\n",
    "    ('scaler', StandardScaler())])\n",
    "\n",
    "categorical_features = ['region', 'sub-region']\n",
    "\n",
    "categorical_transformer = Pipeline(steps=[\n",
    "    ('imputer', SimpleImputer(strategy='most_frequent')),\n",
    "    ('onehot', OneHotEncoder(handle_unknown='ignore'))])\n",
    "\n",
    "preprocessor = ColumnTransformer(\n",
    "    transformers=[\n",
    "        ('num', numeric_transformer, numeric_features),\n",
    "        ('cat', categorical_transformer, categorical_features)])\n",
    "\n",
    "preprocess=preprocessor.fit(X_train)\n",
    "\n",
    "def preprocessor(data):\n",
    "    data.drop(['Country or region', 'name'], axis=1)\n",
    "    preprocessed_data=preprocess.transform(data)\n",
    "    return preprocessed_data\n",
    "\n",
    "preprocessor(X_train).shape"
   ]
  },
  {
   "cell_type": "code",
   "execution_count": null,
   "metadata": {
    "colab": {
     "base_uri": "https://localhost:8080/"
    },
    "id": "pHslXMaWqu-a",
    "outputId": "08b4df38-405a-450d-c43b-08be12cefa39"
   },
   "outputs": [
    {
     "data": {
      "text/plain": [
       "0.9318181818181818"
      ]
     },
     "execution_count": 25,
     "metadata": {},
     "output_type": "execute_result"
    }
   ],
   "source": [
    "# model 1\n",
    "from sklearn.ensemble import RandomForestClassifier\n",
    "\n",
    "model = RandomForestClassifier(n_estimators=100, max_depth=5)\n",
    "model.fit(preprocessor(X_train), y_train_labels)\n",
    "model.score(preprocessor(X_train), y_train_labels)"
   ]
  },
  {
   "cell_type": "code",
   "execution_count": null,
   "metadata": {
    "id": "dWpTJZ71vEvO"
   },
   "outputs": [],
   "source": [
    "! pip install aimodelshare --upgrade"
   ]
  },
  {
   "cell_type": "code",
   "execution_count": null,
   "metadata": {
    "id": "UB3RN21eV9eI"
   },
   "outputs": [],
   "source": [
    "import aimodelshare as ai\n",
    "ai.export_preprocessor(preprocessor,\"\") "
   ]
  },
  {
   "cell_type": "code",
   "execution_count": null,
   "metadata": {
    "id": "cgIG_iIovQ6q"
   },
   "outputs": [],
   "source": [
    "# Save sklearn model to local ONNX file\n",
    "from aimodelshare.aimsonnx import model_to_onnx\n",
    "\n",
    "# Check how many preprocessed input features are there?\n",
    "from skl2onnx.common.data_types import FloatTensorType\n",
    "\n",
    "feature_count=preprocessor(X_test).shape[1] #Get count of preprocessed features\n",
    "initial_type = [('float_input', FloatTensorType([None, feature_count]))]  #Insert correct number of preprocessed features\n",
    "\n",
    "onnx_model = model_to_onnx(model, framework='sklearn',\n",
    "                          initial_types=initial_type,\n",
    "                          transfer_learning=False,\n",
    "                          deep_learning=False)\n",
    "\n",
    "with open(\"model.onnx\", \"wb\") as f:\n",
    "    f.write(onnx_model.SerializeToString())\n"
   ]
  },
  {
   "cell_type": "code",
   "execution_count": null,
   "metadata": {
    "id": "BIXXOB95vfMq"
   },
   "outputs": [],
   "source": [
    "#Set credentials using modelshare.org username/password\n",
    "\n",
    "from aimodelshare.aws import set_credentials\n",
    "\n",
    "#This is the unique rest api that powers this World Happiness Classification Playground -- make sure to update the apiurl for new competition deployments\n",
    "apiurl=\"https://e2w6gh3id1.execute-api.us-east-2.amazonaws.com/prod/m\"\n",
    "\n",
    "set_credentials(apiurl=apiurl)"
   ]
  },
  {
   "cell_type": "code",
   "execution_count": null,
   "metadata": {
    "id": "jETjb9oivjE8"
   },
   "outputs": [],
   "source": [
    "#Instantiate Competition\n",
    "import aimodelshare as ai\n",
    "mycompetition= ai.Competition(apiurl)"
   ]
  },
  {
   "cell_type": "code",
   "execution_count": null,
   "metadata": {
    "colab": {
     "base_uri": "https://localhost:8080/"
    },
    "id": "D5JmxODjvp2k",
    "outputId": "0d466b1b-81f7-41c7-8e10-8ca180ac97c7"
   },
   "outputs": [
    {
     "name": "stdout",
     "output_type": "stream",
     "text": [
      "Insert search tags to help users find your model (optional): R\n",
      "Provide any useful notes about your model (optional): \n",
      "\n",
      "Your model has been submitted as model version 570\n",
      "\n",
      "To submit code used to create this model or to view current leaderboard navigate to Model Playground: \n",
      "\n",
      " https://www.modelshare.org/detail/model:3164\n"
     ]
    }
   ],
   "source": [
    "#Submit Model 1: \n",
    "\n",
    "#-- Generate predicted values (Model 1)\n",
    "prediction_labels = model.predict(preprocessor(X_test))\n",
    "\n",
    "# Submit Model 1 to Competition Leaderboard\n",
    "mycompetition.submit_model(model_filepath = \"model.onnx\",\n",
    "                                 preprocessor_filepath=\"preprocessor.zip\",\n",
    "                                 prediction_submission=prediction_labels,\n",
    "                                  custom_metadata={\"team\":\"2\"}) "
   ]
  },
  {
   "cell_type": "code",
   "execution_count": null,
   "metadata": {
    "id": "ZubWN1nkwGWl"
   },
   "outputs": [],
   "source": [
    "# Get leaderboard to explore current best model architectures\n",
    "\n",
    "# Get raw data in pandas data frame\n",
    "data = mycompetition.get_leaderboard()\n",
    "\n",
    "# Stylize leaderboard data\n",
    "mycompetition.stylize_leaderboard(data)"
   ]
  },
  {
   "cell_type": "code",
   "execution_count": null,
   "metadata": {
    "id": "-a6BPM3LxRC5"
   },
   "outputs": [],
   "source": [
    "#tune rfc\n",
    "import numpy as np\n",
    "from sklearn.model_selection import RandomizedSearchCV\n",
    "# Number of trees in random forest\n",
    "n_estimators = [int(x) for x in np.linspace(start = 100, stop = 1000, num = 10)]\n",
    "# Number of features to consider at every split\n",
    "max_features = ['auto', 'sqrt']\n",
    "# Maximum number of levels in tree\n",
    "max_depth = [int(x) for x in np.linspace(1, 10, num = 2)]\n",
    "max_depth.append(None)\n",
    "# Minimum number of samples required to split a node\n",
    "min_samples_split = [2, 5, 10]\n",
    "# Minimum number of samples required at each leaf node\n",
    "min_samples_leaf = [1, 2, 4]\n",
    "# Method of selecting samples for training each tree\n",
    "bootstrap = [True, False]\n",
    "# Create the random grid\n",
    "random_grid = {'n_estimators': n_estimators,\n",
    "               'max_features': max_features,\n",
    "               'max_depth': max_depth,\n",
    "               'min_samples_split': min_samples_split,\n",
    "               'min_samples_leaf': min_samples_leaf,\n",
    "               'bootstrap': bootstrap}\n",
    "print(random_grid)\n",
    "# Use the random grid to search for best hyperparameters\n",
    "# First create the base model to tune\n",
    "rf = RandomForestClassifier()\n",
    "# Random search of parameters, using 3 fold cross validation, \n",
    "# search across 100 different combinations, and use all available cores\n",
    "rf_random = RandomizedSearchCV(estimator = rf, param_distributions = random_grid, n_iter = 100, cv = 3, verbose=2, random_state=42, n_jobs = -1)\n",
    "rf_random.fit(preprocessor(X_train),y_train_labels)\n"
   ]
  },
  {
   "cell_type": "code",
   "execution_count": null,
   "metadata": {
    "colab": {
     "base_uri": "https://localhost:8080/"
    },
    "id": "Uqp89hab0cBu",
    "outputId": "31d16ba4-60dc-442d-dfe8-230cebd24efb"
   },
   "outputs": [
    {
     "data": {
      "text/plain": [
       "1.0"
      ]
     },
     "execution_count": 44,
     "metadata": {},
     "output_type": "execute_result"
    }
   ],
   "source": [
    "best_rf.score(preprocessor(X_train),y_train_labels)"
   ]
  },
  {
   "cell_type": "code",
   "execution_count": null,
   "metadata": {
    "id": "4U93LygH16hZ"
   },
   "outputs": [],
   "source": [
    "# Save sklearn model to local ONNX file\n",
    "from aimodelshare.aimsonnx import model_to_onnx\n",
    "\n",
    "feature_count=preprocessor(X_test).shape[1] #Get count of preprocessed features\n",
    "initial_type = [('float_input', FloatTensorType([None, feature_count]))]  # Insert correct number of preprocessed features\n",
    "\n",
    "onnx_model = model_to_onnx(best_rf, framework='sklearn',\n",
    "                          initial_types=initial_type,\n",
    "                          transfer_learning=False,\n",
    "                          deep_learning=False)\n",
    "\n",
    "with open(\"model2.onnx\", \"wb\") as f:\n",
    "    f.write(onnx_model.SerializeToString())"
   ]
  },
  {
   "cell_type": "code",
   "execution_count": null,
   "metadata": {
    "id": "2HjuvOrR2Ki-"
   },
   "outputs": [],
   "source": [
    "#Submit tuned rfc: \n",
    "\n",
    "#-- Generate predicted values (Model 1)\n",
    "prediction_labels = best_rf.predict(preprocessor(X_test))\n",
    "\n",
    "# Submit Model 1 to Competition Leaderboard\n",
    "mycompetition.submit_model(model_filepath = \"model2.onnx\",\n",
    "                                 preprocessor_filepath=\"preprocessor.zip\",\n",
    "                                 prediction_submission=prediction_labels,\n",
    "                                  custom_metadata={\"team\":\"2\"}) \n"
   ]
  },
  {
   "cell_type": "code",
   "execution_count": null,
   "metadata": {
    "colab": {
     "base_uri": "https://localhost:8080/"
    },
    "id": "4TaEz6bG3D5P",
    "outputId": "66d6652d-1e87-44ac-c2d7-239348f5ad9b"
   },
   "outputs": [
    {
     "data": {
      "text/plain": [
       "1.0"
      ]
     },
     "execution_count": 48,
     "metadata": {},
     "output_type": "execute_result"
    }
   ],
   "source": [
    "#GB model\n",
    "from sklearn.ensemble import GradientBoostingClassifier\n",
    "\n",
    "test_GB = GradientBoostingClassifier(n_estimators=50, learning_rate=0.1,\n",
    "    max_depth=5, random_state=0,subsample=0.5).fit(preprocessor(X_train), y_train_labels)\n",
    "test_GB.score(preprocessor(X_train), y_train_labels)"
   ]
  },
  {
   "cell_type": "code",
   "execution_count": null,
   "metadata": {
    "id": "HOHog8en3qbn"
   },
   "outputs": [],
   "source": [
    "# Save sklearn model to local ONNX file\n",
    "from aimodelshare.aimsonnx import model_to_onnx\n",
    "\n",
    "feature_count=preprocessor(X_test).shape[1] #Get count of preprocessed features\n",
    "initial_type = [('float_input', FloatTensorType([None, feature_count]))]  # Insert correct number of preprocessed features\n",
    "\n",
    "onnx_model = model_to_onnx(test_GB, framework='sklearn',\n",
    "                          initial_types=initial_type,\n",
    "                          transfer_learning=False,\n",
    "                          deep_learning=False)\n",
    "\n",
    "with open(\"model3.onnx\", \"wb\") as f:\n",
    "    f.write(onnx_model.SerializeToString())"
   ]
  },
  {
   "cell_type": "code",
   "execution_count": null,
   "metadata": {
    "colab": {
     "base_uri": "https://localhost:8080/"
    },
    "id": "qCoEJqA84RUq",
    "outputId": "b5bcc206-0a54-46d1-d02f-359bb9fba00a"
   },
   "outputs": [
    {
     "name": "stdout",
     "output_type": "stream",
     "text": [
      "Insert search tags to help users find your model (optional): GGGGG\n",
      "Provide any useful notes about your model (optional): \n",
      "\n",
      "Your model has been submitted as model version 591\n",
      "\n",
      "To submit code used to create this model or to view current leaderboard navigate to Model Playground: \n",
      "\n",
      " https://www.modelshare.org/detail/model:3164\n"
     ]
    }
   ],
   "source": [
    "#submit model 3\n",
    "prediciton_labels = test_GB.predict(preprocessor(X_test))\n",
    "\n",
    "mycompetition.submit_model(model_filepath = \"model3.onnx\",\n",
    "                                 preprocessor_filepath=\"preprocessor.zip\",\n",
    "                                 prediction_submission=prediction_labels,\n",
    "                                  custom_metadata={\"team\":\"2\"})"
   ]
  },
  {
   "cell_type": "code",
   "execution_count": null,
   "metadata": {
    "colab": {
     "base_uri": "https://localhost:8080/"
    },
    "id": "Lo-zoz6y5-97",
    "outputId": "30b3fa24-daec-43d3-8970-0c32f9fa0ab7"
   },
   "outputs": [
    {
     "name": "stdout",
     "output_type": "stream",
     "text": [
      "Accuracy score: 0.656481 using {'learning_rate': 0.1, 'max_depth': 5, 'n_estimators': 50, 'subsample': 0.5}\n"
     ]
    }
   ],
   "source": [
    "#tune GB\n",
    "from sklearn.model_selection import RepeatedStratifiedKFold\n",
    "from sklearn.model_selection import GridSearchCV\n",
    "# creating a dict of grids\n",
    "grid = dict()\n",
    "# values for iteration\n",
    "grid['n_estimators'] = [10, 50, 100, 500]\n",
    "# values for learning rate\n",
    "grid['learning_rate'] = [0.0001, 0.001, 0.01, 0.1, 1.0]\n",
    "# values for the sampel\n",
    "grid['subsample'] = [0.5, 0.7, 1.0]\n",
    "# values for teh depth of tree\n",
    "grid['max_depth'] = [3, 4, 5]\n",
    "# defining the cv\n",
    "cv = RepeatedStratifiedKFold(n_splits=10, n_repeats=3)\n",
    "# applying the gridsearchcv method\n",
    "grid_search = GridSearchCV(estimator=test_GB, param_grid=grid, n_jobs=-1, cv=cv, scoring='accuracy')\n",
    "# storing the values\n",
    "grid_result = grid_search.fit(preprocessor(X_train), y_train_labels)\n",
    "# printing the best parameters of Gradient boosting algorithm using Python\n",
    "print(\"Accuracy score: %f using %s\" % (grid_result.best_score_, grid_result.best_params_))"
   ]
  },
  {
   "cell_type": "code",
   "execution_count": null,
   "metadata": {
    "colab": {
     "base_uri": "https://localhost:8080/"
    },
    "id": "TQekTdI0PKWS",
    "outputId": "0c093850-cc75-406b-e3a0-44157590ca5a"
   },
   "outputs": [
    {
     "data": {
      "text/plain": [
       "1.0"
      ]
     },
     "execution_count": 61,
     "metadata": {},
     "output_type": "execute_result"
    }
   ],
   "source": [
    "#tuned GB\n",
    "tuned_GB = GradientBoostingClassifier(n_estimators=50, learning_rate=0.1,\n",
    "    max_depth=5, random_state=0,subsample=0.5).fit(preprocessor(X_train), y_train_labels)\n",
    "tuned_GB.score(preprocessor(X_train), y_train_labels)"
   ]
  },
  {
   "cell_type": "code",
   "execution_count": null,
   "metadata": {
    "colab": {
     "base_uri": "https://localhost:8080/"
    },
    "id": "G77HpIhWPVNo",
    "outputId": "05b6b317-e5f0-4348-f65c-404b69cda6cd"
   },
   "outputs": [
    {
     "name": "stdout",
     "output_type": "stream",
     "text": [
      "Insert search tags to help users find your model (optional): \n",
      "Provide any useful notes about your model (optional): \n",
      "\n",
      "Your model has been submitted as model version 621\n",
      "\n",
      "To submit code used to create this model or to view current leaderboard navigate to Model Playground: \n",
      "\n",
      " https://www.modelshare.org/detail/model:3164\n"
     ]
    }
   ],
   "source": [
    "#submit tunedGB\n",
    "from aimodelshare.aimsonnx import model_to_onnx\n",
    "\n",
    "feature_count=preprocessor(X_test).shape[1] #Get count of preprocessed features\n",
    "initial_type = [('float_input', FloatTensorType([None, feature_count]))]  # Insert correct number of preprocessed features\n",
    "\n",
    "onnx_model = model_to_onnx(tuned_GB, framework='sklearn',\n",
    "                          initial_types=initial_type,\n",
    "                          transfer_learning=False,\n",
    "                          deep_learning=False)\n",
    "\n",
    "with open(\"model4.onnx\", \"wb\") as f:\n",
    "    f.write(onnx_model.SerializeToString())\n",
    "\n",
    "prediciton_labels = tuned_GB.predict(preprocessor(X_test))\n",
    "\n",
    "mycompetition.submit_model(model_filepath = \"model4.onnx\",\n",
    "                                 preprocessor_filepath=\"preprocessor.zip\",\n",
    "                                 prediction_submission=prediction_labels,\n",
    "                                  custom_metadata={\"team\":\"2\"})"
   ]
  },
  {
   "cell_type": "code",
   "execution_count": null,
   "metadata": {
    "id": "o8xbUzWqiZGa"
   },
   "outputs": [],
   "source": [
    "# deep learning model\n",
    "import keras\n",
    "from keras.models import Sequential\n",
    "from keras.layers import Dense, Activation\n",
    "feature_count=preprocessor(X_train).shape[1] #count features in input data\n",
    "keras_model = Sequential()\n",
    "keras_model.add(Dense(128, input_dim=feature_count, activation='relu'))\n",
    "keras_model.add(Dense(64, activation='relu'))\n",
    "keras_model.add(Dense(64, activation='relu'))\n",
    "keras_model.add(Dense(32, activation='relu'))\n",
    "keras_model.add(Dense(5, activation='softmax'))                                             \n",
    "# Compile model\n",
    "keras_model.compile(loss='categorical_crossentropy', optimizer='sgd', metrics=['accuracy'])\n",
    "# Fitting the NN to the Training set\n",
    "keras_model.fit(preprocessor(X_train), y_train,\n",
    "                batch_size = 20,\n",
    "                epochs = 300, validation_split=0.25)"
   ]
  },
  {
   "cell_type": "code",
   "execution_count": null,
   "metadata": {
    "id": "OCBbCGKJjAo_"
   },
   "outputs": [],
   "source": [
    "from aimodelshare.aimsonnx import model_to_onnx\n",
    "\n",
    "onnx_model = model_to_onnx(keras_model, framework='keras',\n",
    "                          transfer_learning=False,\n",
    "                          deep_learning=True)\n",
    "\n",
    "with open(\"model5.onnx\", \"wb\") as f:\n",
    "    f.write(onnx_model.SerializeToString())"
   ]
  },
  {
   "cell_type": "code",
   "execution_count": null,
   "metadata": {
    "id": "6N2bpZIrjEFq"
   },
   "outputs": [],
   "source": [
    "# Submit keras model: \n",
    "\n",
    "#-- Generate predicted y values\n",
    "#Note: Keras predict returns the predicted column index location for classification models\n",
    "prediction_column_index=keras_model.predict(preprocessor(X_test)).argmax(axis=1)\n",
    "\n",
    "# extract correct prediction labels \n",
    "prediction_labels = [y_train.columns[i] for i in prediction_column_index]\n",
    "\n",
    "# Submit Model 1 to Competition Leaderboard\n",
    "mycompetition.submit_model(model_filepath = \"model5.onnx\",\n",
    "                                 preprocessor_filepath=\"preprocessor.zip\",\n",
    "                                 prediction_submission=prediction_labels,\n",
    "                                  custom_metadata={\"team\":\"2\"})"
   ]
  },
  {
   "cell_type": "code",
   "execution_count": null,
   "metadata": {
    "colab": {
     "base_uri": "https://localhost:8080/"
    },
    "id": "ldDr9E6Pkpky",
    "outputId": "1d83a73c-c05d-40f5-875e-d6ad57944adf"
   },
   "outputs": [
    {
     "name": "stderr",
     "output_type": "stream",
     "text": [
      "<ipython-input-10-2ce7c7d0c583>:20: DeprecationWarning: KerasClassifier is deprecated, use Sci-Keras (https://github.com/adriangb/scikeras) instead. See https://www.adriangb.com/scikeras/stable/migration.html for help migrating.\n",
      "  model = KerasClassifier(build_fn=build_model, verbose=0)\n"
     ]
    },
    {
     "name": "stdout",
     "output_type": "stream",
     "text": [
      "Best: 0.316475 using {'activation': 'relu', 'batch_size': 64, 'epochs': 10, 'num_hidden_layers': 1, 'num_neurons': 64}\n"
     ]
    }
   ],
   "source": [
    "#tune keras model\n",
    "import numpy as np\n",
    "import pandas as pd\n",
    "from sklearn.model_selection import GridSearchCV\n",
    "from keras.models import Sequential\n",
    "from keras.layers import Dense\n",
    "from keras.wrappers.scikit_learn import KerasClassifier\n",
    "\n",
    "# function to build the model\n",
    "def build_model(num_hidden_layers=1, num_neurons=32, activation='relu'):\n",
    "    model = Sequential()\n",
    "    model.add(Dense(num_neurons, input_dim=preprocessor(X_train).shape[1], activation=activation))\n",
    "    for i in range(num_hidden_layers-1):\n",
    "        model.add(Dense(num_neurons, activation=activation))\n",
    "    model.add(Dense(1, activation='sigmoid'))\n",
    "    model.compile(loss='binary_crossentropy', optimizer='adam', metrics=['accuracy'])\n",
    "    return model\n",
    "\n",
    "# wrap the model in KerasClassifier\n",
    "model = KerasClassifier(build_fn=build_model, verbose=0)\n",
    "\n",
    "# define the hyperparameters to search\n",
    "param_grid = dict(num_hidden_layers=[1, 2, 3],\n",
    "                  num_neurons=[16, 32, 64],\n",
    "                  activation=['relu', 'tanh'],\n",
    "                  epochs=[10, 20, 30],\n",
    "                  batch_size=[32, 64, 128])\n",
    "\n",
    "# perform grid search\n",
    "grid = GridSearchCV(estimator=model, param_grid=param_grid, cv=3)\n",
    "grid_result = grid.fit(preprocessor(X_train), y_train_labels)\n",
    "\n",
    "# show the best parameters and the corresponding accuracy\n",
    "print(\"Best: %f using %s\" % (grid_result.best_score_, grid_result.best_params_))\n",
    "\n",
    "# evaluate the model on the test data using the best parameters\n",
    "best_ks = build_model(num_hidden_layers=grid_result.best_params_['num_hidden_layers'],\n",
    "                    num_neurons=grid_result.best_params_['num_neurons'],\n",
    "                    activation=grid_result.best_params_['activation'])\n",
    "\n"
   ]
  },
  {
   "cell_type": "code",
   "execution_count": null,
   "metadata": {
    "id": "HO3UeS5iUA7n"
   },
   "outputs": [],
   "source": [
    "#tune keras\n",
    "import keras\n",
    "from keras.models import Sequential\n",
    "from keras.layers import Dense, Activation\n",
    "feature_count=preprocessor(X_train).shape[1] #count features in input data\n",
    "keras_model = Sequential()\n",
    "keras_model.add(Dense(128, input_dim=feature_count, activation='relu'))\n",
    "keras_model.add(Dense(64, activation='relu'))\n",
    "keras_model.add(Dense(64, activation='relu'))\n",
    "keras_model.add(Dense(32, activation='relu'))\n",
    "keras_model.add(Dense(5, activation='softmax'))                                             \n",
    "# Compile model\n",
    "keras_model.compile(loss='categorical_crossentropy', optimizer='sgd', metrics=['accuracy'])\n",
    "# Fitting the NN to the Training set\n",
    "keras_model.fit(preprocessor(X_train), y_train,\n",
    "                batch_size = 64,\n",
    "                epochs = 300, validation_split=0.25)"
   ]
  },
  {
   "cell_type": "code",
   "execution_count": null,
   "metadata": {
    "id": "agcHwN4nVPFz"
   },
   "outputs": [],
   "source": [
    "from aimodelshare.aimsonnx import model_to_onnx\n",
    "\n",
    "onnx_model = model_to_onnx(keras_model, framework='keras',\n",
    "                          transfer_learning=False,\n",
    "                          deep_learning=True)\n",
    "\n",
    "with open(\"model6.onnx\", \"wb\") as f:\n",
    "    f.write(onnx_model.SerializeToString())"
   ]
  },
  {
   "cell_type": "code",
   "execution_count": null,
   "metadata": {
    "colab": {
     "base_uri": "https://localhost:8080/",
     "height": 296
    },
    "id": "Kf9nRQ-DXNS7",
    "outputId": "5adba91c-4205-4cbb-ee23-f4e7af5e8970"
   },
   "outputs": [
    {
     "data": {
      "image/png": "[encoded data removed]",
      "text/plain": [
       "<Figure size 432x288 with 1 Axes>"
      ]
     },
     "metadata": {
      "needs_background": "light"
     },
     "output_type": "display_data"
    }
   ],
   "source": [
    "import matplotlib.pyplot as plt\n",
    "# Scatter plot\n",
    "plt.scatter(X_train['Terrorist_attacks'], y_train_labels)\n",
    "\n",
    "# Labels and title\n",
    "plt.xlabel('Terrorist_attacks')\n",
    "plt.ylabel('happiness')\n",
    "plt.title('attacks vs happiness')\n",
    "\n",
    "# Show plot\n",
    "plt.show()"
   ]
  }
 ],
 "metadata": {
  "colab": {
   "provenance": []
  },
  "kernelspec": {
   "display_name": "Python 3 (ipykernel)",
   "language": "python",
   "name": "python3"
  },
  "language_info": {
   "codemirror_mode": {
    "name": "ipython",
    "version": 3
   },
   "file_extension": ".py",
   "mimetype": "text/x-python",
   "name": "python",
   "nbconvert_exporter": "python",
   "pygments_lexer": "ipython3",
   "version": "3.10.7"
  }
 },
 "nbformat": 4,
 "nbformat_minor": 4
}
